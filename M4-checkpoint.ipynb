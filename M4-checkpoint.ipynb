{
 "cells": [
  {
   "cell_type": "markdown",
   "metadata": {},
   "source": [
    "# Implementation of LSTM model for training and testing"
   ]
  },
  {
   "cell_type": "code",
   "execution_count": 1,
   "metadata": {},
   "outputs": [],
   "source": [
    "from tensorflow.keras.models import Sequential,load_model\n",
    "from tensorflow.keras.layers import LSTM, Dense\n",
    "from tensorflow.keras.layers import Dropout, Activation, Flatten\n",
    "import warnings\n",
    "warnings.filterwarnings(\"ignore\") "
   ]
  },
  {
   "cell_type": "code",
   "execution_count": 2,
   "metadata": {
    "colab": {},
    "colab_type": "code",
    "id": "gDTF5giuRZ73"
   },
   "outputs": [],
   "source": [
    "import numpy as np\n",
    "import matplotlib.pyplot as plt\n",
    "import pandas as pd\n",
    "from sklearn.preprocessing import MinMaxScaler"
   ]
  },
  {
   "cell_type": "code",
   "execution_count": 3,
   "metadata": {},
   "outputs": [],
   "source": [
    "data = pd.read_csv('data.csv', date_parser = True)"
   ]
  },
  {
   "cell_type": "code",
   "execution_count": 4,
   "metadata": {},
   "outputs": [],
   "source": [
    "data=data.dropna()"
   ]
  },
  {
   "cell_type": "code",
   "execution_count": 5,
   "metadata": {},
   "outputs": [
    {
     "data": {
      "text/plain": [
       "Index(['URLs', 'Headline', 'Body', 'Label'], dtype='object')"
      ]
     },
     "execution_count": 5,
     "metadata": {},
     "output_type": "execute_result"
    }
   ],
   "source": [
    "data.columns"
   ]
  },
  {
   "cell_type": "code",
   "execution_count": 6,
   "metadata": {},
   "outputs": [],
   "source": [
    "from sklearn.preprocessing import LabelEncoder\n",
    "var_mod = ['URLs', 'Headline', 'Body', 'Label']\n",
    "le = LabelEncoder()\n",
    "for i in var_mod:\n",
    "    data[i] = le.fit_transform(data[i]).astype(int)"
   ]
  },
  {
   "cell_type": "code",
   "execution_count": 7,
   "metadata": {},
   "outputs": [
    {
     "data": {
      "text/html": [
       "<div>\n",
       "<style scoped>\n",
       "    .dataframe tbody tr th:only-of-type {\n",
       "        vertical-align: middle;\n",
       "    }\n",
       "\n",
       "    .dataframe tbody tr th {\n",
       "        vertical-align: top;\n",
       "    }\n",
       "\n",
       "    .dataframe thead th {\n",
       "        text-align: right;\n",
       "    }\n",
       "</style>\n",
       "<table border=\"1\" class=\"dataframe\">\n",
       "  <thead>\n",
       "    <tr style=\"text-align: right;\">\n",
       "      <th></th>\n",
       "      <th>URLs</th>\n",
       "      <th>Headline</th>\n",
       "      <th>Body</th>\n",
       "      <th>Label</th>\n",
       "    </tr>\n",
       "  </thead>\n",
       "  <tbody>\n",
       "    <tr>\n",
       "      <th>0</th>\n",
       "      <td>1617</td>\n",
       "      <td>880</td>\n",
       "      <td>1288</td>\n",
       "      <td>1</td>\n",
       "    </tr>\n",
       "    <tr>\n",
       "      <th>1</th>\n",
       "      <td>2933</td>\n",
       "      <td>1395</td>\n",
       "      <td>1521</td>\n",
       "      <td>1</td>\n",
       "    </tr>\n",
       "    <tr>\n",
       "      <th>2</th>\n",
       "      <td>2598</td>\n",
       "      <td>2471</td>\n",
       "      <td>2431</td>\n",
       "      <td>1</td>\n",
       "    </tr>\n",
       "    <tr>\n",
       "      <th>3</th>\n",
       "      <td>3071</td>\n",
       "      <td>745</td>\n",
       "      <td>1580</td>\n",
       "      <td>1</td>\n",
       "    </tr>\n",
       "    <tr>\n",
       "      <th>4</th>\n",
       "      <td>2060</td>\n",
       "      <td>1237</td>\n",
       "      <td>863</td>\n",
       "      <td>1</td>\n",
       "    </tr>\n",
       "  </tbody>\n",
       "</table>\n",
       "</div>"
      ],
      "text/plain": [
       "   URLs  Headline  Body  Label\n",
       "0  1617       880  1288      1\n",
       "1  2933      1395  1521      1\n",
       "2  2598      2471  2431      1\n",
       "3  3071       745  1580      1\n",
       "4  2060      1237   863      1"
      ]
     },
     "execution_count": 7,
     "metadata": {},
     "output_type": "execute_result"
    }
   ],
   "source": [
    "data.head()"
   ]
  },
  {
   "cell_type": "code",
   "execution_count": 8,
   "metadata": {},
   "outputs": [],
   "source": [
    "from sklearn.metrics import confusion_matrix, classification_report, matthews_corrcoef, cohen_kappa_score, accuracy_score, average_precision_score, roc_auc_score"
   ]
  },
  {
   "cell_type": "code",
   "execution_count": 9,
   "metadata": {},
   "outputs": [],
   "source": [
    "X = data.drop(labels='Label', axis=1)\n",
    "#Response variable\n",
    "y = data.loc[:,'Label']    "
   ]
  },
  {
   "cell_type": "code",
   "execution_count": 10,
   "metadata": {},
   "outputs": [],
   "source": [
    "from sklearn.model_selection import train_test_split\n",
    "X_train, X_test, y_train, y_test = train_test_split(X, y, test_size=0.5, random_state=1, stratify=y)"
   ]
  },
  {
   "cell_type": "code",
   "execution_count": 11,
   "metadata": {},
   "outputs": [
    {
     "data": {
      "text/plain": [
       "array([[0.57717718, 0.41849752, 0.5027972 ],\n",
       "       [0.77297297, 0.56803685, 0.66573427],\n",
       "       [0.74024024, 0.71545004, 0.81923077],\n",
       "       ...,\n",
       "       [0.17597598, 0.0368533 , 0.08146853],\n",
       "       [0.07207207, 0.03437279, 0.72202797],\n",
       "       [0.82342342, 0.51169383, 0.99125874]])"
      ]
     },
     "execution_count": 11,
     "metadata": {},
     "output_type": "execute_result"
    }
   ],
   "source": [
    "scaler = MinMaxScaler()\n",
    "data_training = scaler.fit_transform(X_train)\n",
    "data_training"
   ]
  },
  {
   "cell_type": "code",
   "execution_count": 12,
   "metadata": {},
   "outputs": [
    {
     "data": {
      "text/plain": [
       "array([[0.67257435, 0.92416726, 0.32156589],\n",
       "       [0.3986182 , 0.50815025, 0.56623558],\n",
       "       [0.70501652, 0.88837704, 0.19888151],\n",
       "       ...,\n",
       "       [0.11745269, 0.4280652 , 0.49912618],\n",
       "       [0.34094323, 0.52019844, 0.09751835],\n",
       "       [0.28356864, 0.54854713, 0.60887801]])"
      ]
     },
     "execution_count": 12,
     "metadata": {},
     "output_type": "execute_result"
    }
   ],
   "source": [
    "scaler = MinMaxScaler()\n",
    "data_testing = scaler.fit_transform(X_test)\n",
    "data_testing"
   ]
  },
  {
   "cell_type": "code",
   "execution_count": 13,
   "metadata": {},
   "outputs": [
    {
     "data": {
      "text/plain": [
       "array([[0.57717718, 0.41849752, 0.5027972 ],\n",
       "       [0.77297297, 0.56803685, 0.66573427],\n",
       "       [0.74024024, 0.71545004, 0.81923077],\n",
       "       [0.41231231, 0.97306875, 0.96888112],\n",
       "       [0.53363363, 0.71899362, 0.52307692],\n",
       "       [0.64204204, 0.51098512, 0.32132867],\n",
       "       [0.51321321, 0.04429483, 0.80594406],\n",
       "       [0.66126126, 0.52232459, 0.8513986 ],\n",
       "       [0.56186186, 0.95038979, 0.03951049],\n",
       "       [0.7039039 , 0.90077959, 0.98461538]])"
      ]
     },
     "execution_count": 13,
     "metadata": {},
     "output_type": "execute_result"
    }
   ],
   "source": [
    "data_training[0:10]"
   ]
  },
  {
   "cell_type": "code",
   "execution_count": 14,
   "metadata": {},
   "outputs": [
    {
     "data": {
      "text/plain": [
       "array([[0.67257435, 0.92416726, 0.32156589],\n",
       "       [0.3986182 , 0.50815025, 0.56623558],\n",
       "       [0.70501652, 0.88837704, 0.19888151],\n",
       "       [0.63772905, 0.37632884, 0.41873471],\n",
       "       [0.38329829, 0.53437279, 0.51031108],\n",
       "       [0.13848002, 0.66158753, 0.92205523],\n",
       "       [0.69990988, 0.70056697, 0.23383432],\n",
       "       [0.03574647, 0.64989369, 0.70954212],\n",
       "       [0.6581556 , 0.32813607, 0.86158686],\n",
       "       [0.8227696 , 0.34691708, 0.8409647 ]])"
      ]
     },
     "execution_count": 14,
     "metadata": {},
     "output_type": "execute_result"
    }
   ],
   "source": [
    "data_testing[0:10]"
   ]
  },
  {
   "cell_type": "code",
   "execution_count": 15,
   "metadata": {},
   "outputs": [],
   "source": [
    "X_train1 = []\n",
    "y_train1 = []"
   ]
  },
  {
   "cell_type": "code",
   "execution_count": 16,
   "metadata": {},
   "outputs": [],
   "source": [
    "for i in range(60, data_training.shape[0]):\n",
    "    X_train1.append(data_training[i-60:i])\n",
    "    y_train1.append(data_training[i, 0])"
   ]
  },
  {
   "cell_type": "code",
   "execution_count": 17,
   "metadata": {},
   "outputs": [],
   "source": [
    "X_train, y_train = np.array(X_train1), np.array(y_train1)"
   ]
  },
  {
   "cell_type": "code",
   "execution_count": 18,
   "metadata": {},
   "outputs": [
    {
     "data": {
      "text/plain": [
       "(1934, 60, 3)"
      ]
     },
     "execution_count": 18,
     "metadata": {},
     "output_type": "execute_result"
    }
   ],
   "source": [
    "X_train.shape"
   ]
  },
  {
   "cell_type": "code",
   "execution_count": 19,
   "metadata": {},
   "outputs": [],
   "source": [
    "X_test1 = []\n",
    "y_test1 = []"
   ]
  },
  {
   "cell_type": "code",
   "execution_count": 20,
   "metadata": {},
   "outputs": [],
   "source": [
    "for i in range(60, data_training.shape[0]):\n",
    "    X_train1.append(data_training[i-60:i])\n",
    "    y_train1.append(data_training[i, 0])"
   ]
  },
  {
   "cell_type": "code",
   "execution_count": 21,
   "metadata": {},
   "outputs": [],
   "source": [
    "X_train, y_train = np.array(X_train1), np.array(y_train1)"
   ]
  },
  {
   "cell_type": "code",
   "execution_count": 22,
   "metadata": {},
   "outputs": [
    {
     "data": {
      "text/plain": [
       "(3868, 60, 3)"
      ]
     },
     "execution_count": 22,
     "metadata": {},
     "output_type": "execute_result"
    }
   ],
   "source": [
    "X_train.shape"
   ]
  },
  {
   "cell_type": "code",
   "execution_count": 23,
   "metadata": {},
   "outputs": [],
   "source": [
    "X_test1 = []\n",
    "y_test1 = []"
   ]
  },
  {
   "cell_type": "code",
   "execution_count": 24,
   "metadata": {},
   "outputs": [],
   "source": [
    "for i in range(60, data_testing.shape[0]):\n",
    "    X_test1.append(data_testing[i-60:i])\n",
    "    y_test1.append(data_testing[i, 0])"
   ]
  },
  {
   "cell_type": "code",
   "execution_count": 25,
   "metadata": {},
   "outputs": [],
   "source": [
    "X_test, y_test = np.array(X_test1), np.array(y_test1)"
   ]
  },
  {
   "cell_type": "code",
   "execution_count": 26,
   "metadata": {},
   "outputs": [
    {
     "data": {
      "text/plain": [
       "(1934, 60, 3)"
      ]
     },
     "execution_count": 26,
     "metadata": {},
     "output_type": "execute_result"
    }
   ],
   "source": [
    "X_test.shape"
   ]
  },
  {
   "cell_type": "code",
   "execution_count": 27,
   "metadata": {
    "scrolled": false
   },
   "outputs": [
    {
     "name": "stdout",
     "output_type": "stream",
     "text": [
      "Train on 3868 samples\n",
      "Epoch 1/10\n",
      "3868/3868 [==============================] - 59s 15ms/sample - loss: 0.0860 - accuracy: 2.5853e-04\n",
      "Epoch 2/10\n",
      "3868/3868 [==============================] - 55s 14ms/sample - loss: 0.0827 - accuracy: 5.1706e-04\n",
      "Epoch 3/10\n",
      "3868/3868 [==============================] - 55s 14ms/sample - loss: 0.0825 - accuracy: 5.1706e-04\n",
      "Epoch 4/10\n",
      "3868/3868 [==============================] - 55s 14ms/sample - loss: 0.0823 - accuracy: 5.1706e-04\n",
      "Epoch 5/10\n",
      "3868/3868 [==============================] - 55s 14ms/sample - loss: 0.0823 - accuracy: 2.5853e-04\n",
      "Epoch 6/10\n",
      "3868/3868 [==============================] - 55s 14ms/sample - loss: 0.0820 - accuracy: 2.5853e-04\n",
      "Epoch 7/10\n",
      "3868/3868 [==============================] - 55s 14ms/sample - loss: 0.0819 - accuracy: 5.1706e-04\n",
      "Epoch 8/10\n",
      "3868/3868 [==============================] - 56s 14ms/sample - loss: 0.0820 - accuracy: 5.1706e-04\n",
      "Epoch 9/10\n",
      "3868/3868 [==============================] - 55s 14ms/sample - loss: 0.0817 - accuracy: 2.5853e-04\n",
      "Epoch 10/10\n",
      "3868/3868 [==============================] - 55s 14ms/sample - loss: 0.0816 - accuracy: 5.1706e-04\n",
      "Model: \"sequential\"\n",
      "_________________________________________________________________\n",
      "Layer (type)                 Output Shape              Param #   \n",
      "=================================================================\n",
      "lstm (LSTM)                  (None, 60, 24)            2688      \n",
      "_________________________________________________________________\n",
      "dropout (Dropout)            (None, 60, 24)            0         \n",
      "_________________________________________________________________\n",
      "lstm_1 (LSTM)                (None, 50)                15000     \n",
      "_________________________________________________________________\n",
      "dense (Dense)                (None, 10)                510       \n",
      "_________________________________________________________________\n",
      "dense_1 (Dense)              (None, 1)                 11        \n",
      "=================================================================\n",
      "Total params: 18,209\n",
      "Trainable params: 18,209\n",
      "Non-trainable params: 0\n",
      "_________________________________________________________________\n"
     ]
    }
   ],
   "source": [
    "# Initialising the RNN\n",
    "model = Sequential()\n",
    "# Adding the first LSTM layer and some Dropout regularisation\n",
    "model.add(LSTM(24, return_sequences=True,input_shape=(X_train.shape[1], X_train.shape[2])))  # returns a sequence of vectors of dimension 64\n",
    "model.add(Dropout(0.2))\n",
    "\n",
    "# Adding a second LSTM layer and some Dropout regularisation\n",
    "model.add(LSTM(units = 50))\n",
    "#model.add(Dropout(0.2))\n",
    "\n",
    "model.add(Dense(10,activation='relu'))\n",
    "\n",
    "\n",
    "# Adding the output layer\n",
    "#model.add(Dense(1, activation=\"linear\"))\n",
    "model.add(Dense(1))\n",
    "\n",
    "#model.add(Dense(units = 1))\n",
    "# Compiling the RNN\n",
    "\n",
    "model.compile(optimizer = 'adam', loss = 'mean_squared_error',metrics=['accuracy'])\n",
    "\n",
    "history=model.fit(X_train, y_train,batch_size=2, epochs=10)\n",
    "# Model summary for number of parameters use in the algorithm \n",
    "model.summary()"
   ]
  },
  {
   "cell_type": "code",
   "execution_count": 28,
   "metadata": {},
   "outputs": [],
   "source": [
    "def graph():\n",
    "    #Plot training & validation accuracy values\n",
    "    plt.plot(history.history['accuracy'])\n",
    "    plt.plot(history.history['loss'])\n",
    "    plt.title('Model accuracy')\n",
    "    plt.ylabel('Accuracy')\n",
    "    plt.xlabel('Epoch')\n",
    "    plt.legend(['Train', 'Test'], loc='upper left')\n",
    "    plt.show()\n",
    "\n",
    "    # Plot training & validation loss values\n",
    "    plt.plot(history.history['accuracy'])\n",
    "    plt.plot(history.history['loss'])\n",
    "    plt.title('Model loss')\n",
    "    plt.ylabel('Loss')\n",
    "    plt.xlabel('Epoch')\n",
    "    plt.legend(['Train', 'Test'], loc='upper left')\n",
    "    plt.show()"
   ]
  },
  {
   "cell_type": "code",
   "execution_count": 29,
   "metadata": {},
   "outputs": [
    {
     "data": {
      "image/png": "[encoded data removed]",
      "text/plain": [
       "<Figure size 432x288 with 1 Axes>"
      ]
     },
     "metadata": {
      "needs_background": "light"
     },
     "output_type": "display_data"
    },
    {
     "data": {
      "image/png": "[encoded data removed]",
      "text/plain": [
       "<Figure size 432x288 with 1 Axes>"
      ]
     },
     "metadata": {
      "needs_background": "light"
     },
     "output_type": "display_data"
    }
   ],
   "source": [
    "graph()"
   ]
  },
  {
   "cell_type": "code",
   "execution_count": 33,
   "metadata": {},
   "outputs": [],
   "source": [
    "scores = model.predict(X_test)"
   ]
  },
  {
   "cell_type": "code",
   "execution_count": 34,
   "metadata": {},
   "outputs": [],
   "source": [
    "import math, time"
   ]
  },
  {
   "cell_type": "code",
   "execution_count": 35,
   "metadata": {},
   "outputs": [
    {
     "name": "stdout",
     "output_type": "stream",
     "text": [
      "\n",
      "Train Score: 0.08 MSE (0.28 RMSE)\n",
      "\n",
      "Test Score: 0.08 MSE (0.29 RMSE)\n"
     ]
    }
   ],
   "source": [
    "print(\"\")\n",
    "trainScore = model.evaluate(X_train, y_train, verbose=0)\n",
    "print('Train Score: %.2f MSE (%.2f RMSE)' % (trainScore[0], math.sqrt(trainScore[0])))\n",
    "print(\"\")\n",
    "testScore = model.evaluate(X_test, y_test, verbose=0)\n",
    "print('Test Score: %.2f MSE (%.2f RMSE)' % (testScore[0], math.sqrt(testScore[0])))"
   ]
  },
  {
   "cell_type": "code",
   "execution_count": null,
   "metadata": {},
   "outputs": [],
   "source": []
  }
 ],
 "metadata": {
  "colab": {
   "name": "opinion spam prediction.ipynb",
   "provenance": []
  },
  "kernelspec": {
   "display_name": "Python 3 (ipykernel)",
   "language": "python",
   "name": "python3"
  },
  "language_info": {
   "codemirror_mode": {
    "name": "ipython",
    "version": 3
   },
   "file_extension": ".py",
   "mimetype": "text/x-python",
   "name": "python",
   "nbconvert_exporter": "python",
   "pygments_lexer": "ipython3",
   "version": "3.9.7"
  }
 },
 "nbformat": 4,
 "nbformat_minor": 1
}
