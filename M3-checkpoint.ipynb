{
 "cells": [
  {
   "cell_type": "markdown",
   "metadata": {},
   "source": [
    "# Performance measurements of ML algorithms (Supervised and Unsupervised)"
   ]
  },
  {
   "cell_type": "code",
   "execution_count": 13,
   "metadata": {},
   "outputs": [],
   "source": [
    "#import library packages\n",
    "import pandas as p\n",
    "import numpy as n"
   ]
  },
  {
   "cell_type": "code",
   "execution_count": 14,
   "metadata": {},
   "outputs": [],
   "source": [
    "import warnings\n",
    "warnings.filterwarnings(\"ignore\") "
   ]
  },
  {
   "cell_type": "code",
   "execution_count": 15,
   "metadata": {},
   "outputs": [],
   "source": [
    "#Load given dataset\n",
    "data = p.read_csv('data.csv')\n",
    "df=data.dropna()"
   ]
  },
  {
   "cell_type": "code",
   "execution_count": 16,
   "metadata": {},
   "outputs": [
    {
     "data": {
      "text/plain": [
       "Index(['URLs', 'Headline', 'Body', 'Label'], dtype='object')"
      ]
     },
     "execution_count": 16,
     "metadata": {},
     "output_type": "execute_result"
    }
   ],
   "source": [
    "df.columns"
   ]
  },
  {
   "cell_type": "code",
   "execution_count": 17,
   "metadata": {},
   "outputs": [],
   "source": [
    "from sklearn.preprocessing import LabelEncoder\n",
    "var_mod = ['URLs', 'Headline', 'Body', 'Label']\n",
    "le = LabelEncoder()\n",
    "for i in var_mod:\n",
    "    df[i] = le.fit_transform(df[i]).astype(int)"
   ]
  },
  {
   "cell_type": "code",
   "execution_count": 18,
   "metadata": {},
   "outputs": [],
   "source": [
    "#According to the cross-validated MCC scores, the random forest is the best-performing model, so now let's evaluate its performance on the test set.\n",
    "from sklearn.metrics import confusion_matrix, classification_report, matthews_corrcoef, cohen_kappa_score, accuracy_score, average_precision_score, roc_auc_score"
   ]
  },
  {
   "cell_type": "code",
   "execution_count": 19,
   "metadata": {},
   "outputs": [],
   "source": [
    "X = df.drop(labels='Label', axis=1)\n",
    "#Response variable\n",
    "y = df.loc[:,'Label']    "
   ]
  },
  {
   "cell_type": "code",
   "execution_count": 20,
   "metadata": {},
   "outputs": [],
   "source": [
    "#We'll use a test size of 30%. We also stratify the split on the response variable, which is very important to do because there are so few fraudulent transactions.\n",
    "from sklearn.model_selection import train_test_split\n",
    "X_train, X_test, y_train, y_test = train_test_split(X, y, test_size=0.3, random_state=1, stratify=y)"
   ]
  },
  {
   "cell_type": "markdown",
   "metadata": {},
   "source": [
    "Decision Tree Classifier :"
   ]
  },
  {
   "cell_type": "code",
   "execution_count": 21,
   "metadata": {},
   "outputs": [
    {
     "name": "stdout",
     "output_type": "stream",
     "text": [
      "\n",
      "Accuracy result ofDecision Tree Classifier  is: 99.49874686716792\n",
      "\n",
      "\n",
      "Classification report of Decision Tree Classifier : Results:\n",
      "\n",
      "              precision    recall  f1-score   support\n",
      "\n",
      "           0       0.99      1.00      1.00       636\n",
      "           1       1.00      0.99      0.99       561\n",
      "\n",
      "    accuracy                           0.99      1197\n",
      "   macro avg       1.00      0.99      0.99      1197\n",
      "weighted avg       0.99      0.99      0.99      1197\n",
      "\n",
      "Confusion Matrix result of Decision Tree Classifier : is:\n",
      " [[634   2]\n",
      " [  4 557]]\n",
      "\n",
      "Sensitivity :  0.9968553459119497\n",
      "\n",
      "Specificity :  0.9928698752228164\n"
     ]
    }
   ],
   "source": [
    "from sklearn.tree import DecisionTreeClassifier\n",
    "dtree = DecisionTreeClassifier()\n",
    "\n",
    "dtree.fit(X_train,y_train)\n",
    "predictR = dtree.predict(X_test)\n",
    "print(\"\")\n",
    "x = (accuracy_score(y_test,predictR)*100)\n",
    "print('Accuracy result ofDecision Tree Classifier  is:', x)\n",
    "print(\"\")\n",
    "\n",
    "print(\"\")\n",
    "print('Classification report of Decision Tree Classifier : Results:')\n",
    "print(\"\")\n",
    "\n",
    "print(classification_report(y_test,predictR))\n",
    "xd = (accuracy_score(y_test,predictR)*100)\n",
    "\n",
    "\n",
    "cm2=confusion_matrix(y_test,predictR)\n",
    "print('Confusion Matrix result of Decision Tree Classifier : is:\\n', confusion_matrix(y_test,predictR))\n",
    "print(\"\")\n",
    "\n",
    "sensitivity1 = cm2[0,0]/(cm2[0,0]+cm2[0,1])\n",
    "print('Sensitivity : ', sensitivity1 )\n",
    "print(\"\")\n",
    "specificity1 = cm2[1,1]/(cm2[1,0]+cm2[1,1])\n",
    "print('Specificity : ', specificity1)"
   ]
  },
  {
   "cell_type": "markdown",
   "metadata": {},
   "source": [
    "Logistic Regression:"
   ]
  },
  {
   "cell_type": "code",
   "execution_count": 22,
   "metadata": {},
   "outputs": [
    {
     "name": "stdout",
     "output_type": "stream",
     "text": [
      "\n",
      "Accuracy result of Logistic Regression is: 81.203007518797\n",
      "\n",
      "\n",
      "Classification report of Logistic Regression : Results:\n",
      "\n",
      "              precision    recall  f1-score   support\n",
      "\n",
      "           0       0.81      0.84      0.83       636\n",
      "           1       0.81      0.78      0.79       561\n",
      "\n",
      "    accuracy                           0.81      1197\n",
      "   macro avg       0.81      0.81      0.81      1197\n",
      "weighted avg       0.81      0.81      0.81      1197\n",
      "\n",
      "Confusion Matrix result of Logistic Regression : is:\n",
      " [[537  99]\n",
      " [126 435]]\n",
      "\n",
      "Sensitivity :  0.8443396226415094\n",
      "\n",
      "Specificity :  0.7754010695187166\n"
     ]
    }
   ],
   "source": [
    "from sklearn.linear_model import LogisticRegression\n",
    "logR= LogisticRegression()\n",
    "logR.fit(X_train,y_train)\n",
    "predictR = logR.predict(X_test)\n",
    "print(\"\")\n",
    "x = (accuracy_score(y_test,predictR)*100)\n",
    "print('Accuracy result of Logistic Regression is:', x)\n",
    "print(\"\")\n",
    "\n",
    "print(\"\")\n",
    "print('Classification report of Logistic Regression : Results:')\n",
    "print(\"\")\n",
    "\n",
    "print(classification_report(y_test,predictR))\n",
    "xl = (accuracy_score(y_test,predictR)*100)\n",
    "\n",
    "\n",
    "cm2=confusion_matrix(y_test,predictR)\n",
    "print('Confusion Matrix result of Logistic Regression : is:\\n', confusion_matrix(y_test,predictR))\n",
    "print(\"\")\n",
    "\n",
    "sensitivity1 = cm2[0,0]/(cm2[0,0]+cm2[0,1])\n",
    "print('Sensitivity : ', sensitivity1 )\n",
    "print(\"\")\n",
    "specificity1 = cm2[1,1]/(cm2[1,0]+cm2[1,1])\n",
    "print('Specificity : ', specificity1)"
   ]
  },
  {
   "cell_type": "code",
   "execution_count": 23,
   "metadata": {},
   "outputs": [],
   "source": [
    "def graph():\n",
    "    import matplotlib.pyplot as plt\n",
    "    data=[xd,xl]\n",
    "    alg=\"DT\",\"LR\"\n",
    "    plt.figure(figsize=(10,5))\n",
    "    b=plt.bar(alg,data,color=(\"black\",\"gray\"))\n",
    "    plt.title(\"Prediction of Opinion real or fake using ML\",fontsize=15)\n",
    "    plt.legend(b,data,fontsize=12)\n",
    "    plt.savefig('comp.png')"
   ]
  },
  {
   "cell_type": "code",
   "execution_count": 24,
   "metadata": {
    "scrolled": true
   },
   "outputs": [
    {
     "data": {
      "image/png": "[encoded data removed]",
      "text/plain": [
       "<Figure size 720x360 with 1 Axes>"
      ]
     },
     "metadata": {
      "needs_background": "light"
     },
     "output_type": "display_data"
    }
   ],
   "source": [
    "graph()"
   ]
  },
  {
   "cell_type": "code",
   "execution_count": 25,
   "metadata": {},
   "outputs": [],
   "source": [
    "import tkinter\n",
    "from matplotlib.backends.backend_tkagg import (FigureCanvasTkAgg, NavigationToolbar2Tk)\n",
    "from matplotlib.backend_bases import key_press_handler\n",
    "from matplotlib.figure import Figure\n",
    "import numpy as np\n",
    "root = tkinter.Tk()\n",
    "root.wm_title(\"Prediction of real or fake news using ML\")\n",
    "fig = Figure(figsize=(10,10),dpi=1)\n",
    "canvas = FigureCanvasTkAgg(fig, master=root)  \n",
    "canvas.draw()\n",
    "canvas.get_tk_widget().pack(side=tkinter.TOP, fill=tkinter.BOTH, expand=1)\n",
    "icon=tkinter.PhotoImage(file='comp.png')   \n",
    "label=tkinter.Label(root,image=icon)\n",
    "label.pack()\n",
    "root.mainloop()"
   ]
  },
  {
   "cell_type": "code",
   "execution_count": null,
   "metadata": {},
   "outputs": [],
   "source": []
  }
 ],
 "metadata": {
  "kernelspec": {
   "display_name": "Python 3 (ipykernel)",
   "language": "python",
   "name": "python3"
  },
  "language_info": {
   "codemirror_mode": {
    "name": "ipython",
    "version": 3
   },
   "file_extension": ".py",
   "mimetype": "text/x-python",
   "name": "python",
   "nbconvert_exporter": "python",
   "pygments_lexer": "ipython3",
   "version": "3.9.7"
  }
 },
 "nbformat": 4,
 "nbformat_minor": 2
}
